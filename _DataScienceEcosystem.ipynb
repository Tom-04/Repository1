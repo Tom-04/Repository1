{
 "cells": [
  {
   "cell_type": "markdown",
   "id": "4e59cec7",
   "metadata": {},
   "source": [
    "# Data Science Tools and Ecosystem\n"
   ]
  },
  {
   "cell_type": "markdown",
   "id": "1dbba634",
   "metadata": {},
   "source": [
    "In this notebook, Data Science Tools and Ecosystem are summarized."
   ]
  },
  {
   "cell_type": "markdown",
   "id": "ba19eb35",
   "metadata": {},
   "source": [
    "Some Popular Data Science Languages are:\n",
    "1. Pthon\n",
    "2. R\n",
    "3. SQL"
   ]
  },
  {
   "cell_type": "markdown",
   "id": "c0dd8bf8",
   "metadata": {},
   "source": [
    "Some of the commonly used libraries used by Data Scientists include:\n",
    "1. NumPy\n",
    "2. scikit-learn\n",
    "3. pandas"
   ]
  },
  {
   "cell_type": "markdown",
   "id": "e58bec00",
   "metadata": {},
   "source": [
    "|Data Science Tools|\n",
    "-----------------------------\n",
    "Jupyter Notebooks|\n",
    "RStudio|\n",
    "VS code|"
   ]
  },
  {
   "cell_type": "markdown",
   "id": "2ab6f69f",
   "metadata": {},
   "source": [
    "### Below are a few examples of evaluating arithmetic expressions in Python"
   ]
  },
  {
   "cell_type": "code",
   "execution_count": 2,
   "id": "2b80655f",
   "metadata": {},
   "outputs": [
    {
     "data": {
      "text/plain": [
       "17"
      ]
     },
     "execution_count": 2,
     "metadata": {},
     "output_type": "execute_result"
    }
   ],
   "source": [
    "# This a simple arithmetic expression to mutiply then add integers\n",
    "(3*4)+5"
   ]
  },
  {
   "cell_type": "code",
   "execution_count": 10,
   "id": "a719ffac",
   "metadata": {},
   "outputs": [
    {
     "data": {
      "text/plain": [
       "3.3333333333333335"
      ]
     },
     "execution_count": 10,
     "metadata": {},
     "output_type": "execute_result"
    }
   ],
   "source": [
    "# Converts 200 minutes into hours\n",
    "200/60 \n"
   ]
  },
  {
   "cell_type": "markdown",
   "id": "965cc3c4",
   "metadata": {},
   "source": [
    "**Objectives**\n",
    "- List popular languages in data science\n",
    "- List commonly used libraries used by data scientists\n",
    "- List Data science tools"
   ]
  },
  {
   "cell_type": "markdown",
   "id": "e296f60c",
   "metadata": {},
   "source": [
    "## Author\n",
    "Tom Battaglia"
   ]
  },
  {
   "cell_type": "code",
   "execution_count": null,
   "id": "5a5da3ae",
   "metadata": {},
   "outputs": [],
   "source": []
  }
 ],
 "metadata": {
  "kernelspec": {
   "display_name": "Python 3 (ipykernel)",
   "language": "python",
   "name": "python3"
  },
  "language_info": {
   "codemirror_mode": {
    "name": "ipython",
    "version": 3
   },
   "file_extension": ".py",
   "mimetype": "text/x-python",
   "name": "python",
   "nbconvert_exporter": "python",
   "pygments_lexer": "ipython3",
   "version": "3.11.5"
  }
 },
 "nbformat": 4,
 "nbformat_minor": 5
}
